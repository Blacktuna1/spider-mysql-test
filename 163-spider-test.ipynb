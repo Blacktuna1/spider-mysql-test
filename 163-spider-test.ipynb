{
 "cells": [
  {
   "cell_type": "code",
   "execution_count": 25,
   "metadata": {},
   "outputs": [],
   "source": [
    "import datetime\n",
    "import math\n",
    "import random\n",
    "import time\n",
    "from concurrent.futures import ProcessPoolExecutor\n",
    "\n",
    "import requests\n",
    "from bs4 import BeautifulSoup\n",
    "\n",
    "\n"
   ]
  },
  {
   "cell_type": "code",
   "execution_count": 7,
   "metadata": {},
   "outputs": [],
   "source": [
    "res = requests.get(r'https://www.discogs.com/sell/list?format=Vinyl')"
   ]
  },
  {
   "cell_type": "code",
   "execution_count": 6,
   "metadata": {},
   "outputs": [
    {
     "data": {
      "text/plain": [
       "'<!DOCTYPE html><html lang=\"en-US\"><head><title>Just a moment...</title><meta http-equiv=\"Content-Type\" content=\"text/html; charset=UTF-8\"><meta http-equiv=\"X-UA-Compatible\" content=\"IE=Edge\"><meta name=\"robots\" content=\"noindex,nofollow\"><meta name=\"viewport\" content=\"width=device-width,initial-scale=1\"><style>*{box-sizing:border-box;margin:0;padding:0}html{line-height:1.15;-webkit-text-size-adjust:100%;color:#313131}button,html{font-family:system-ui,-apple-system,BlinkMacSystemFont,Segoe UI,Roboto,Helvetica Neue,Arial,Noto Sans,sans-serif,Apple Color Emoji,Segoe UI Emoji,Segoe UI Symbol,Noto Color Emoji}@media (prefers-color-scheme:dark){body{background-color:#222;color:#d9d9d9}body a{color:#fff}body a:hover{color:#ee730a;text-decoration:underline}body .lds-ring div{border-color:#999 transparent transparent}body .font-red{color:#b20f03}body .big-button,body .pow-button{background-color:#4693ff;color:#1d1d1d}body #challenge-success-text{background-image:url(data:image/svg+xml;base64,PHN2ZyB4bWxucz0iaHR0cDovL3d3dy53My5vcmcvMjAwMC9zdmciIHdpZHRoPSIzMiIgaGVpZ2h0PSIzMiIgZmlsbD0ibm9uZSIgdmlld0JveD0iMCAwIDI2IDI2Ij48cGF0aCBmaWxsPSIjZDlkOWQ5IiBkPSJNMTMgMGExMyAxMyAwIDEgMCAwIDI2IDEzIDEzIDAgMCAwIDAtMjZtMCAyNGExMSAxMSAwIDEgMSAwLTIyIDExIDExIDAgMCAxIDAgMjIiLz48cGF0aCBmaWxsPSIjZDlkOWQ5IiBkPSJtMTAuOTU1IDE2LjA1NS0zLjk1LTQuMTI1LTEuNDQ1IDEuMzg1IDUuMzcgNS42MSA5LjQ5NS05LjYtMS40Mi0xLjQwNXoiLz48L3N2Zz4=)}body #challenge-error-text{background-image:url(data:image/svg+xml;base64,PHN2ZyB4bWxucz0iaHR0cDovL3d3dy53My5vcmcvMjAwMC9zdmciIHdpZHRoPSIzMiIgaGVpZ2h0PSIzMiIgZmlsbD0ibm9uZSI+PHBhdGggZmlsbD0iI0IyMEYwMyIgZD0iTTE2IDNhMTMgMTMgMCAxIDAgMTMgMTNBMTMuMDE1IDEzLjAxNSAwIDAgMCAxNiAzbTAgMjRhMTEgMTEgMCAxIDEgMTEtMTEgMTEuMDEgMTEuMDEgMCAwIDEtMTEgMTEiLz48cGF0aCBmaWxsPSIjQjIwRjAzIiBkPSJNMTcuMDM4IDE4LjYxNUgxNC44N0wxNC41NjMgOS41aDIuNzgzem0tMS4wODQgMS40MjdxLjY2IDAgMS4wNTcuMzg4LjQwNy4zODkuNDA3Ljk5NCAwIC41OTYtLjQwNy45ODQtLjM5Ny4zOS0xLjA1Ny4zODktLjY1IDAtMS4wNTYtLjM4OS0uMzk4LS4zODktLjM5OC0uOTg0IDAtLjU5Ny4zOTgtLjk4NS40MDYtLjM5NyAxLjA1Ni0uMzk3Ii8+PC9zdmc+)}}body{display:flex;flex-direction:column;min-height:100vh}body.no-js .loading-spinner{visibility:hidden}body.no-js .challenge-running{display:none}body.dark{background-color:#222;color:#d9d9d9}body.dark a{color:#fff}body.dark a:hover{color:#ee730a;text-decoration:underline}body.dark .lds-ring div{border-color:#999 transparent transparent}body.dark .font-red{color:#b20f03}body.dark .big-button,body.dark .pow-button{background-color:#4693ff;color:#1d1d1d}body.dark #challenge-success-text{background-image:url(data:image/svg+xml;base64,PHN2ZyB4bWxucz0iaHR0cDovL3d3dy53My5vcmcvMjAwMC9zdmciIHdpZHRoPSIzMiIgaGVpZ2h0PSIzMiIgZmlsbD0ibm9uZSIgdmlld0JveD0iMCAwIDI2IDI2Ij48cGF0aCBmaWxsPSIjZDlkOWQ5IiBkPSJNMTMgMGExMyAxMyAwIDEgMCAwIDI2IDEzIDEzIDAgMCAwIDAtMjZtMCAyNGExMSAxMSAwIDEgMSAwLTIyIDExIDExIDAgMCAxIDAgMjIiLz48cGF0aCBmaWxsPSIjZDlkOWQ5IiBkPSJtMTAuOTU1IDE2LjA1NS0zLjk1LTQuMTI1LTEuNDQ1IDEuMzg1IDUuMzcgNS42MSA5LjQ5NS05LjYtMS40Mi0xLjQwNXoiLz48L3N2Zz4=)}body.dark #challenge-error-text{background-image:url(data:image/svg+xml;base64,PHN2ZyB4bWxucz0iaHR0cDovL3d3dy53My5vcmcvMjAwMC9zdmciIHdpZHRoPSIzMiIgaGVpZ2h0PSIzMiIgZmlsbD0ibm9uZSI+PHBhdGggZmlsbD0iI0IyMEYwMyIgZD0iTTE2IDNhMTMgMTMgMCAxIDAgMTMgMTNBMTMuMDE1IDEzLjAxNSAwIDAgMCAxNiAzbTAgMjRhMTEgMTEgMCAxIDEgMTEtMTEgMTEuMDEgMTEuMDEgMCAwIDEtMTEgMTEiLz48cGF0aCBmaWxsPSIjQjIwRjAzIiBkPSJNMTcuMDM4IDE4LjYxNUgxNC44N0wxNC41NjMgOS41aDIuNzgzem0tMS4wODQgMS40MjdxLjY2IDAgMS4wNTcuMzg4LjQwNy4zODkuNDA3Ljk5NCAwIC41OTYtLjQwNy45ODQtLjM5Ny4zOS0xLjA1Ny4zODktLjY1IDAtMS4wNTYtLjM4OS0uMzk4LS4zODktLjM5OC0uOTg0IDAtLjU5Ny4zOTgtLjk4NS40MDYtLjM5NyAxLjA1Ni0uMzk3Ii8+PC9zdmc+)}body.light{background-color:transparent;color:#313131}body.light a{color:#0051c3}body.light a:hover{color:#ee730a;text-decoration:underline}body.light .lds-ring div{border-color:#595959 transparent transparent}body.light .font-red{color:#fc574a}body.light .big-button,body.light .pow-button{background-color:#003681;border-color:#003681;color:#fff}body.light #challenge-success-text{background-image:url(data:image/svg+xml;base64,PHN2ZyB4bWxucz0iaHR0cDovL3d3dy53My5vcmcvMjAwMC9zdmciIHdpZHRoPSIzMiIgaGVpZ2h0PSIzMiIgZmlsbD0ibm9uZSIgdmlld0JveD0iMCAwIDI2IDI2Ij48cGF0aCBmaWxsPSIjMzEzMTMxIiBkPSJNMTMgMGExMyAxMyAwIDEgMCAwIDI2IDEzIDEzIDAgMCAwIDAtMjZtMCAyNGExMSAxMSAwIDEgMSAwLTIyIDExIDExIDAgMCAxIDAgMjIiLz48cGF0aCBmaWxsPSIjMzEzMTMxIiBkPSJtMTAuOTU1IDE2LjA1NS0zLjk1LTQuMTI1LTEuNDQ1IDEuMzg1IDUuMzcgNS42MSA5LjQ5NS05LjYtMS40Mi0xLjQwNXoiLz48L3N2Zz4=)}body.light #challenge-error-text{background-image:url(data:image/svg+xml;base64,PHN2ZyB4bWxucz0iaHR0cDovL3d3dy53My5vcmcvMjAwMC9zdmciIHdpZHRoPSIzMiIgaGVpZ2h0PSIzMiIgZmlsbD0ibm9uZSI+PHBhdGggZmlsbD0iI2ZjNTc0YSIgZD0iTTE2IDNhMTMgMTMgMCAxIDAgMTMgMTNBMTMuMDE1IDEzLjAxNSAwIDAgMCAxNiAzbTAgMjRhMTEgMTEgMCAxIDEgMTEtMTEgMTEuMDEgMTEuMDEgMCAwIDEtMTEgMTEiLz48cGF0aCBmaWxsPSIjZmM1NzRhIiBkPSJNMTcuMDM4IDE4LjYxNUgxNC44N0wxNC41NjMgOS41aDIuNzgzem0tMS4wODQgMS40MjdxLjY2IDAgMS4wNTcuMzg4LjQwNy4zODkuNDA3Ljk5NCAwIC41OTYtLjQwNy45ODQtLjM5Ny4zOS0xLjA1Ny4zODktLjY1IDAtMS4wNTYtLjM4OS0uMzk4LS4zODktLjM5OC0uOTg0IDAtLjU5Ny4zOTgtLjk4NS40MDYtLjM5NyAxLjA1Ni0uMzk3Ii8+PC9zdmc+)}a{background-color:transparent;color:#0051c3;text-decoration:none;transition:color .15s ease}a:hover{color:#ee730a;text-decoration:underline}.main-content{margin:8rem auto;max-width:60rem;width:100%}.heading-favicon{height:2rem;margin-right:.5rem;width:2rem}@media (width <= 720px){.main-content{margin-top:4rem}.heading-favicon{height:1.5rem;width:1.5rem}}.footer,.main-content{padding-left:1.5rem;padding-right:1.5rem}.main-wrapper{align-items:center;display:flex;flex:1;flex-direction:column}.font-red{color:#b20f03}.spacer{margin:2rem 0}.h1{font-size:2.5rem;font-weight:500;line-height:3.75rem}.h2{font-weight:500}.core-msg,.h2{font-size:1.5rem;line-height:2.25rem}.body-text,.core-msg{font-weight:400}.body-text{font-size:1rem;line-height:1.25rem}@media (width <= 720px){.h1{font-size:1.5rem;line-height:1.75rem}.h2{font-size:1.25rem}.core-msg,.h2{line-height:1.5rem}.core-msg{font-size:1rem}}#challenge-error-text{background-image:url(data:image/svg+xml;base64,PHN2ZyB4bWxucz0iaHR0cDovL3d3dy53My5vcmcvMjAwMC9zdmciIHdpZHRoPSIzMiIgaGVpZ2h0PSIzMiIgZmlsbD0ibm9uZSI+PHBhdGggZmlsbD0iI2ZjNTc0YSIgZD0iTTE2IDNhMTMgMTMgMCAxIDAgMTMgMTNBMTMuMDE1IDEzLjAxNSAwIDAgMCAxNiAzbTAgMjRhMTEgMTEgMCAxIDEgMTEtMTEgMTEuMDEgMTEuMDEgMCAwIDEtMTEgMTEiLz48cGF0aCBmaWxsPSIjZmM1NzRhIiBkPSJNMTcuMDM4IDE4LjYxNUgxNC44N0wxNC41NjMgOS41aDIuNzgzem0tMS4wODQgMS40MjdxLjY2IDAgMS4wNTcuMzg4LjQwNy4zODkuNDA3Ljk5NCAwIC41OTYtLjQwNy45ODQtLjM5Ny4zOS0xLjA1Ny4zODktLjY1IDAtMS4wNTYtLjM4OS0uMzk4LS4zODktLjM5OC0uOTg0IDAtLjU5Ny4zOTgtLjk4NS40MDYtLjM5NyAxLjA1Ni0uMzk3Ii8+PC9zdmc+);padding-left:34px}#challenge-error-text,#challenge-success-text{background-repeat:no-repeat;background-size:contain}#challenge-success-text{background-image:url(data:image/svg+xml;base64,PHN2ZyB4bWxucz0iaHR0cDovL3d3dy53My5vcmcvMjAwMC9zdmciIHdpZHRoPSIzMiIgaGVpZ2h0PSIzMiIgZmlsbD0ibm9uZSIgdmlld0JveD0iMCAwIDI2IDI2Ij48cGF0aCBmaWxsPSIjMzEzMTMxIiBkPSJNMTMgMGExMyAxMyAwIDEgMCAwIDI2IDEzIDEzIDAgMCAwIDAtMjZtMCAyNGExMSAxMSAwIDEgMSAwLTIyIDExIDExIDAgMCAxIDAgMjIiLz48cGF0aCBmaWxsPSIjMzEzMTMxIiBkPSJtMTAuOTU1IDE2LjA1NS0zLjk1LTQuMTI1LTEuNDQ1IDEuMzg1IDUuMzcgNS42MSA5LjQ5NS05LjYtMS40Mi0xLjQwNXoiLz48L3N2Zz4=);padding-left:42px}.text-center{text-align:center}.big-button{border:.063rem solid #0051c3;border-radius:.313rem;font-size:.875rem;line-height:1.313rem;padding:.375rem 1rem;transition-duration:.2s;transition-property:background-color,border-color,color;transition-timing-function:ease}.big-button:hover{cursor:pointer}.captcha-prompt:not(.hidden){display:flex}@media (width <= 720px){.captcha-prompt:not(.hidden){flex-wrap:wrap;justify-content:center}}.pow-button{background-color:#0051c3;color:#fff;margin:2rem 0}.pow-button:hover{background-color:#003681;border-color:#003681;color:#fff}.footer{font-size:.75rem;line-height:1.125rem;margin:0 auto;max-width:60rem;width:100%}.footer-inner{border-top:1px solid #d9d9d9;padding-bottom:1rem;padding-top:1rem}.clearfix:after{clear:both;content:\"\";display:table}.clearfix .column{float:left;padding-right:1.5rem;width:50%}.diagnostic-wrapper{margin-bottom:.5rem}.footer .ray-id{text-align:center}.footer .ray-id code{font-family:monaco,courier,monospace}.core-msg,.zone-name-title{overflow-wrap:break-word}@media (width <= 720px){.diagnostic-wrapper{display:flex;flex-wrap:wrap;justify-content:center}.clearfix:after{clear:none;content:none;display:initial;text-align:center}.column{padding-bottom:2rem}.clearfix .column{float:none;padding:0;width:auto;word-break:keep-all}.zone-name-title{margin-bottom:1rem}}.loading-spinner{height:76.391px}.lds-ring{display:inline-block;position:relative}.lds-ring,.lds-ring div{height:1.875rem;width:1.875rem}.lds-ring div{animation:lds-ring 1.2s cubic-bezier(.5,0,.5,1) infinite;border:.3rem solid transparent;border-radius:50%;border-top-color:#313131;box-sizing:border-box;display:block;position:absolute}.lds-ring div:first-child{animation-delay:-.45s}.lds-ring div:nth-child(2){animation-delay:-.3s}.lds-ring div:nth-child(3){animation-delay:-.15s}@keyframes lds-ring{0%{transform:rotate(0)}to{transform:rotate(1turn)}}@media screen and (-ms-high-contrast:active),screen and (-ms-high-contrast:none){.main-wrapper,body{display:block}}</style><meta http-equiv=\"refresh\" content=\"375\"></head><body class=\"no-js\"><div class=\"main-wrapper\" role=\"main\"><div class=\"main-content\"><noscript><div id=\"challenge-error-title\"><div class=\"h2\"><span id=\"challenge-error-text\">Enable JavaScript and cookies to continue</span></div></div></noscript></div></div><script>(function(){window._cf_chl_opt={cvId: \\'3\\',cZone: \"www.discogs.com\",cType: \\'managed\\',cNounce: \\'48140\\',cRay: \\'861294985ff72f23\\',cHash: \\'a453a394894cf53\\',cUPMDTk: \"\\\\/sell\\\\/list?format=Vinyl&__cf_chl_tk=BMBXTJESgpF6v0f7ipdHSRIB7QFLnydvVJOfotRV_4g-1709898341-0.0.1.1-1685\",cFPWv: \\'b\\',cTTimeMs: \\'1000\\',cMTimeMs: \\'375000\\',cTplV: 5,cTplB: \\'cf\\',cK: \"visitor-time\",fa: \"\\\\/sell\\\\/list?format=Vinyl&__cf_chl_f_tk=BMBXTJESgpF6v0f7ipdHSRIB7QFLnydvVJOfotRV_4g-1709898341-0.0.1.1-1685\",md: \"zGbYaoBDp6Ni50yH5KaYV8lslf8UVU8RCjxBYH.zzy0-1709898341-1.1.1.1-bNabfe6UWlvFiMXbmNiJhEAIaVxTOngTi4RBVB4305GrXz2nxaoqNuVe3iRI062l1cOVhS9W4pAtPW0C2K1q9t4QdU7MvWiwQN2yS1DvlpF6VrZnzOVb0ydIEO_nf4S4yh2GMGycLUtWCctpboexB4Ma0QW6l1uyT_NwAFlvb4eyoMUJraRvAMPlfiznJSEPY21Ab1vIf8Jsy_M3XNINyE0Fr6Fs5Pfbp3XiPTEAmW9zfe.wuToQz9Ack29xXuvSz4km2JBMnHAaTER6StoxRgAZxLdPlBZQbUNEBYGq0jJNZmaPO5H_0O61Fh0I.R_XJ3wvh9d1Sqm.N14BthXi4iQ4zlfGL0A0fjtNWEDQRvUQ.W2AHMSu34wCfDLrfh17u0wmXoVZmJW1LeizNGg27ZXzOKhkbyrqd4JfEnzz005inXaXAbJh.dJ6S_VMK7vvVSDQRLjyi5xV6Zw21AMWdR1ZCtoTuSda1mIn11c2NSYIJSYSzeoBzfSUrHIQGRRpsQshAvVaZE2phrgqmIznccXxPq0jf2.WA.yo2iGfgISAfGXPj64X5gy7dJ0rqtxVH9cK_T..GS1tXp.la1TXD6tBJewQ_dHX0Ml7RqrMVSQ9yE62q2x9rKPROYHV_fMzHgr4_S3NGH_k7Zeq8FwfDP8ZcHIGjne0Iqk11Qvl3R1dMCwJGE4tyC7Ux9IB4_k1.n4BUJl7.oiKg3oQL0V2Cr_NXtYPnAypd1pr69JltwdfPIz3FROo_IGVY8RM.xgSLqlrmkSwN6.ZaQM4Ao9KdBQwIkMspWfKPPYCgxLYa5sJ8OijhE_s7joBjOUeaUEHapyA4zwECwcZ_zAt4aBXTl3pqb7DrrjCBJMcSavovRAPWRNxsFucXfBeBcXlW2sYg7CAuL.HIj5YNgJmWfFiXMEIfcWET4j7Z7m56MWcjATijn6dfTzup46PFKjQZQzOQ.6ziIZOIUOYfuvA_Go.LC40we4CNRlDOgxgRpQ1._VjFBG3iC6ox09s2b.UhwcurahbuoxOIdV88DrhXLW1fjt2YrkHsMCZpLx5I7GDLKFCQ.pirN0xw4CcHDIc4F79a5gpS3j6EW8i7ju792nPH8HOTarglCCDHda0Ao_Ss28qDYNgZYt7BGD_LPMW1CfP_v3iCDH4vEUIcvv1Y9jX7qLwA1gLyxx4suyF7Od76RlKqUz2yb.zSVndx1i.Ew31.mxpTj.PNOEHE5WEeWvuihTscj.obmhhHSqOy.bBToJAomd5IRuzQulWmwOPOQ4xu9kru0DohLPsImpc70p8IfUfCNGCp5SoIZ7Tzm.QCcvhIWVbatxUsXxooWJXUjHxypKtC4gVVwX29jnwkYg7VR1epWx6iwHVSRPGK5wN5Ca_npq6VGPO1..3oRoWZhQ9LDtyoa1ROYxPpHPA5_g9WULQQEb7MK4BoLdjZ5XNsKzkxnkH6GYjuiTfzJvk.VffGdgW0rQUVFfWIJAR87iL2sYVvxBcgsrUvpxB0IkLYG96CRhHwh3gtSzjvy1w1nIOLM35znsSrryhXWasxsiKxwHyxiDNL9F.Dkz_aWBk7cCWc545Oe.7Bxa1q5vB..lSjyUT0pdDxb7SmWQnKEoEhg\",mdrd: \"By4M6xq4GPIWTE80v326LXeMsbtzwIae_rHnJ2P_Hmg-1709898341-1.1.1.1-voP8aI6ENeXJO8l5VlDoOKz.uoYwr56g2N9tmD6vx9vT66SHp3Eq55cIWjhKQQukIiRddOLPy8mw2y.GAETRo.Jw9fl51vMrMXT2SqZVTzsURmIydlvs5.U2RtsJXp5KNbLOl7c65fBmQ8oqgd2VrIfJazcENm1sYpViO4lReLBARqjyH4sHb4311_MrVMQ8BF6oIzwLELiLMVMy3LmtSHvTy1FVGZ2G5h_j_5rNIEugh0HBhylpXfLOosVfxuYodx3jA5grCBfFCGIeNoDazxBCPXZq38esHeMFMQv4YgFagFurH3qUsuYHUdsWxcy.Bo92B4E4ZAYxAS_Xgpx.4xoNe4P3aTbfABDS9AOLt71u1o6_YlDSnBDv83brvytqBJhe6ticvO0xwq6S49K0iqoXLG1c29O2fnG1opUFRX3AnqOU6S9xQEFPdHkArNKb_irI9hULS7eLAhQEMQXdF2rQvPwVIiYmZRQax_965_0BxDfePmdCNYNGOoCaVWytNNmWjVga.Ode256FAq_n.jh9yXhYsNH2c.gekPOWFq3whm4evEA.IFYEwGQnS0eG8mkRj_H.QfH2UuuQcwXhlrFRJihoQi._eG.T2spI7TSyexUwxM5OaPSG3ygTI.a5qjKX2laxndiQitiA00tPcKxrm5k.7A3vQwrtcyXhMQbrodmeSK5_qp6988coAjsh8itg69A4tkOtG4YRpbdlct2ufIua5aLm4PtLc6lLsV_9ftpD9hPc7PoRB.3PSvVkUxHSlMbW_ONzwM2h8kqn4UyhcsW46LmZPfzSvYXVBMvuoeqMiAR35hu9WZnhaQ1ZJzTJgC.YD_rqOlunezpjsleLpfw61XvZsuPYAbQJrOYpRzV3kd1UtScfgwEWQDHabeBobUYfhRZxlkq1yYd9z17dQIqnHDaz6lJJPketi8R1luV.eUJp6n7IwB.0Q3Un63.0zYqXIlXQKIuwjQX3QjIDsY80bObAzjHPSkPhstC41MOg0oTWWgY2ApUeza4YNBHcx8.sgENcgswBUxRtmDTFpNWQxpn5s5X0oh3YEwp1bbJJmW2CwIFZjKZD2M79hQ9CXspr1iRrexRMbWHCvwwIl7WVAMT1wLzuPB57NPAqcRF0JKGqiZDaAfSnD_FvvR2lcCeES8jGnyZ92aUGu1DzK7a1YOJSndkWMe7v4B.LKlq2uTnHyImMIVJPzb81GU2CU13Q1vqUZoxAeSpZtr3zn9rlgCk.2VhkuHthh270yKZ1MJJCVTanTtJ9EQV9Ori2Tm_k2rzhQmGodkew69ZYi_BgXjo_oVtnKGVQkBPZ2aXcpzqnnTGHRORDRS437Nv2EMGaZ0C2hRLW2kS455c1zlQ6OXURyu2x7D7Oh8esxyKb7qxGDi.kvPfXE_GeQeAvjGcn4LDswtcC70Ke14gmrluezcBH9jFwozbEsa4wqlFn5aeIzF1EJOiruhbEh.x5kl.Mk0DzKaszsehaQiBwHAwZxTt93vk3VK8KXfNdF39q20bqNOufIkVsR.mvBRd0JAGHcu0p608ifgWBZgpIg4jJSqnt4kr5iHlnn3MUguOkXqoImgUfNEdki4Ok7BYlD0ccCvgSmm4ECdm.ardHiNNnWMbMeL4jN4WfyofAGOKuL37VkyJWplmOtDXuEofa8I7Fy51ZWUTasAiqBauagnO2S9DGXR4n_aAtRZGk.7_UAWQ7cjwtCDqkXY_jlgTPSPiH8.j4.zjJSG5q.xLx1h0NrVAcx7ikwJfQZ7vuqaZmtYCE5zu8BuNvW9IuYuMZ7GN3t6dwfikt9Lq.IP7Y_NRSQ_niRfyeyutECqPAHHgJYyg11ik06pHAQzscKQ4tEhtT4YzrpW_O4IeXRhCTyWTCGJn6omoKoZgHjkkHyxD_Hp7GvTppTcjULuB4ENdnnEwcBWPUYc37CMDgQ258wfDqrCrG4RQDTebvSUiuJXC2Gz0X43Bq1AQ_OGn.\",cRq: {ru: \\'aHR0cHM6Ly93d3cuZGlzY29ncy5jb20vc2VsbC9saXN0P2Zvcm1hdD1WaW55bA==\\',ra: \\'cHl0aG9uLXJlcXVlc3RzLzIuMjYuMA==\\',rm: \\'R0VU\\',d: \\'S/DnwXByK5YOagNqU7HqJdKcEVEjoGmBENoCHqrrE36U13ngl/08TB4zwjxTdaZc1/Lrv3ad02rj6pngl4XxICZ+inR2a2XouXagSEx/Cq96DqiMXso6+fdFbhPAEpOkaXb8oIAe/uTc0RnQbCbLaGzZRDIbrOx1fKKHboAQrcKvqeeRZnJcEESG56NqjMLRu+j/DykUS0xSQasHr8lXHdayPKgtJ8Ec8rA7pjZ6TaRgf40zkzHlfW4VFbHwSNza5UwDWq74hhc86ob/XoxfAtTdnkgbP+YA9iO0mghC3c5Rxc8ojwKZdhN6B/BMhdcFLIdmfA6IhRLVZVFoIFZ3o9PBCof4qahCr9XHniAIo9sKa3r9clujwXuKcNKIKqJ+tgzcrIgw49IDAUZymNkAMgfSclj5L057KTXBZ+7yuWBLGs+34OnzQOaDruJfP+mIJOpvE1pV4lRwYkt5F8AI1BZOMzvs2urBW5oW6yZnBSpJYi2l1U73PjPQHWlqWDIK+w7fnjt/tC9735fbf07zX7x14rfwbY38dOK0jC930tXDbOxXh8xGyzimFBUY4+rq9YHIXDgN9Ieo9pQ7hq0S+tYHSzNOh7ofL8nIpHgdtCVBopTUqJNdivYJqmTaVK8nGO2kRX2zPxt5MBFlKP5yGA==\\',t: \\'MTcwOTg5ODM0MS4xODIwMDA=\\',cT: Math.floor(Date.now() / 1000),m: \\'t9VjjqxGllR5Om9x7vlyLv8LpLW7mw7sUztFZPX6Aio=\\',i1: \\'Y1ZFO6/Za5RyffqkTTTX0g==\\',i2: \\'JLW3HtctjBU3vJ9DufPlsw==\\',zh: \\'y/5gbtqv3ryNnXkEV3okjz0qMwAKw8hrQMiGMrZYIqs=\\',uh: \\'xaa5dII6Z3KyYGzGAu/zTXOfAYzLW3WlpO4dxW/Wc8c=\\',hh: \\'aHe4LtJTAXE8cGlMp2YOZtPZttABMyA3bgeN7VeGi3E=\\',}};var cpo = document.createElement(\\'script\\');cpo.src = \\'/cdn-cgi/challenge-platform/h/b/orchestrate/chl_page/v1?ray=861294985ff72f23\\';window._cf_chl_opt.cOgUHash = location.hash === \\'\\' && location.href.indexOf(\\'#\\') !== -1 ? \\'#\\' : location.hash;window._cf_chl_opt.cOgUQuery = location.search === \\'\\' && location.href.slice(0, location.href.length - window._cf_chl_opt.cOgUHash.length).indexOf(\\'?\\') !== -1 ? \\'?\\' : location.search;if (window.history && window.history.replaceState) {var ogU = location.pathname + window._cf_chl_opt.cOgUQuery + window._cf_chl_opt.cOgUHash;history.replaceState(null, null, \"\\\\/sell\\\\/list?format=Vinyl&__cf_chl_rt_tk=BMBXTJESgpF6v0f7ipdHSRIB7QFLnydvVJOfotRV_4g-1709898341-0.0.1.1-1685\" + window._cf_chl_opt.cOgUHash);cpo.onload = function() {history.replaceState(null, null, ogU);}}document.getElementsByTagName(\\'head\\')[0].appendChild(cpo);}());</script></body></html>'"
      ]
     },
     "execution_count": 6,
     "metadata": {},
     "output_type": "execute_result"
    }
   ],
   "source": [
    "res.text"
   ]
  },
  {
   "cell_type": "code",
   "execution_count": 3,
   "metadata": {},
   "outputs": [],
   "source": [
    "url = 'https://www.discogs.com/sell/list?format=Vinyl'\n",
    "headers = {\n",
    "    'User-Agent' : ua.random,\n",
    "    'Origin':'https://www.discogs.com',\n",
    "    'referer':'https://www.discogs.com/sell',\n",
    "    'Accept-Language': 'zh-CN,zh'\n",
    "    }"
   ]
  },
  {
   "cell_type": "code",
   "execution_count": 6,
   "metadata": {},
   "outputs": [
    {
     "data": {
      "text/plain": [
       "-1"
      ]
     },
     "execution_count": 6,
     "metadata": {},
     "output_type": "execute_result"
    }
   ],
   "source": [
    "res = requests.get(headers=headers,url=url)\n",
    "str = res.content.decode('utf-8').find('Metalmaster')\n",
    "str"
   ]
  },
  {
   "cell_type": "code",
   "execution_count": 5,
   "metadata": {},
   "outputs": [
    {
     "data": {
      "text/plain": [
       "b'<!DOCTYPE html><html lang=\"en-US\"><head><title>Just a moment...</title><meta http-equiv=\"Content-Type\" content=\"text/html; charset=UTF-8\"><meta http-equiv=\"X-UA-Compatible\" content=\"IE=Edge\"><meta name=\"robots\" content=\"noindex,nofollow\"><meta name=\"viewport\" content=\"width=device-width,initial-scale=1\"><style>*{box-sizing:border-box;margin:0;padding:0}html{line-height:1.15;-webkit-text-size-adjust:100%;color:#313131}button,html{font-family:system-ui,-apple-system,BlinkMacSystemFont,Segoe UI,Roboto,Helvetica Neue,Arial,Noto Sans,sans-serif,Apple Color Emoji,Segoe UI Emoji,Segoe UI Symbol,Noto Color Emoji}@media (prefers-color-scheme:dark){body{background-color:#222;color:#d9d9d9}body a{color:#fff}body a:hover{color:#ee730a;text-decoration:underline}body .lds-ring div{border-color:#999 transparent transparent}body .font-red{color:#b20f03}body .big-button,body .pow-button{background-color:#4693ff;color:#1d1d1d}body #challenge-success-text{background-image:url(data:image/svg+xml;base64,PHN2ZyB4bWxucz0iaHR0cDovL3d3dy53My5vcmcvMjAwMC9zdmciIHdpZHRoPSIzMiIgaGVpZ2h0PSIzMiIgZmlsbD0ibm9uZSIgdmlld0JveD0iMCAwIDI2IDI2Ij48cGF0aCBmaWxsPSIjZDlkOWQ5IiBkPSJNMTMgMGExMyAxMyAwIDEgMCAwIDI2IDEzIDEzIDAgMCAwIDAtMjZtMCAyNGExMSAxMSAwIDEgMSAwLTIyIDExIDExIDAgMCAxIDAgMjIiLz48cGF0aCBmaWxsPSIjZDlkOWQ5IiBkPSJtMTAuOTU1IDE2LjA1NS0zLjk1LTQuMTI1LTEuNDQ1IDEuMzg1IDUuMzcgNS42MSA5LjQ5NS05LjYtMS40Mi0xLjQwNXoiLz48L3N2Zz4=)}body #challenge-error-text{background-image:url(data:image/svg+xml;base64,PHN2ZyB4bWxucz0iaHR0cDovL3d3dy53My5vcmcvMjAwMC9zdmciIHdpZHRoPSIzMiIgaGVpZ2h0PSIzMiIgZmlsbD0ibm9uZSI+PHBhdGggZmlsbD0iI0IyMEYwMyIgZD0iTTE2IDNhMTMgMTMgMCAxIDAgMTMgMTNBMTMuMDE1IDEzLjAxNSAwIDAgMCAxNiAzbTAgMjRhMTEgMTEgMCAxIDEgMTEtMTEgMTEuMDEgMTEuMDEgMCAwIDEtMTEgMTEiLz48cGF0aCBmaWxsPSIjQjIwRjAzIiBkPSJNMTcuMDM4IDE4LjYxNUgxNC44N0wxNC41NjMgOS41aDIuNzgzem0tMS4wODQgMS40MjdxLjY2IDAgMS4wNTcuMzg4LjQwNy4zODkuNDA3Ljk5NCAwIC41OTYtLjQwNy45ODQtLjM5Ny4zOS0xLjA1Ny4zODktLjY1IDAtMS4wNTYtLjM4OS0uMzk4LS4zODktLjM5OC0uOTg0IDAtLjU5Ny4zOTgtLjk4NS40MDYtLjM5NyAxLjA1Ni0uMzk3Ii8+PC9zdmc+)}}body{display:flex;flex-direction:column;min-height:100vh}body.no-js .loading-spinner{visibility:hidden}body.no-js .challenge-running{display:none}body.dark{background-color:#222;color:#d9d9d9}body.dark a{color:#fff}body.dark a:hover{color:#ee730a;text-decoration:underline}body.dark .lds-ring div{border-color:#999 transparent transparent}body.dark .font-red{color:#b20f03}body.dark .big-button,body.dark .pow-button{background-color:#4693ff;color:#1d1d1d}body.dark #challenge-success-text{background-image:url(data:image/svg+xml;base64,PHN2ZyB4bWxucz0iaHR0cDovL3d3dy53My5vcmcvMjAwMC9zdmciIHdpZHRoPSIzMiIgaGVpZ2h0PSIzMiIgZmlsbD0ibm9uZSIgdmlld0JveD0iMCAwIDI2IDI2Ij48cGF0aCBmaWxsPSIjZDlkOWQ5IiBkPSJNMTMgMGExMyAxMyAwIDEgMCAwIDI2IDEzIDEzIDAgMCAwIDAtMjZtMCAyNGExMSAxMSAwIDEgMSAwLTIyIDExIDExIDAgMCAxIDAgMjIiLz48cGF0aCBmaWxsPSIjZDlkOWQ5IiBkPSJtMTAuOTU1IDE2LjA1NS0zLjk1LTQuMTI1LTEuNDQ1IDEuMzg1IDUuMzcgNS42MSA5LjQ5NS05LjYtMS40Mi0xLjQwNXoiLz48L3N2Zz4=)}body.dark #challenge-error-text{background-image:url(data:image/svg+xml;base64,PHN2ZyB4bWxucz0iaHR0cDovL3d3dy53My5vcmcvMjAwMC9zdmciIHdpZHRoPSIzMiIgaGVpZ2h0PSIzMiIgZmlsbD0ibm9uZSI+PHBhdGggZmlsbD0iI0IyMEYwMyIgZD0iTTE2IDNhMTMgMTMgMCAxIDAgMTMgMTNBMTMuMDE1IDEzLjAxNSAwIDAgMCAxNiAzbTAgMjRhMTEgMTEgMCAxIDEgMTEtMTEgMTEuMDEgMTEuMDEgMCAwIDEtMTEgMTEiLz48cGF0aCBmaWxsPSIjQjIwRjAzIiBkPSJNMTcuMDM4IDE4LjYxNUgxNC44N0wxNC41NjMgOS41aDIuNzgzem0tMS4wODQgMS40MjdxLjY2IDAgMS4wNTcuMzg4LjQwNy4zODkuNDA3Ljk5NCAwIC41OTYtLjQwNy45ODQtLjM5Ny4zOS0xLjA1Ny4zODktLjY1IDAtMS4wNTYtLjM4OS0uMzk4LS4zODktLjM5OC0uOTg0IDAtLjU5Ny4zOTgtLjk4NS40MDYtLjM5NyAxLjA1Ni0uMzk3Ii8+PC9zdmc+)}body.light{background-color:transparent;color:#313131}body.light a{color:#0051c3}body.light a:hover{color:#ee730a;text-decoration:underline}body.light .lds-ring div{border-color:#595959 transparent transparent}body.light .font-red{color:#fc574a}body.light .big-button,body.light .pow-button{background-color:#003681;border-color:#003681;color:#fff}body.light #challenge-success-text{background-image:url(data:image/svg+xml;base64,PHN2ZyB4bWxucz0iaHR0cDovL3d3dy53My5vcmcvMjAwMC9zdmciIHdpZHRoPSIzMiIgaGVpZ2h0PSIzMiIgZmlsbD0ibm9uZSIgdmlld0JveD0iMCAwIDI2IDI2Ij48cGF0aCBmaWxsPSIjMzEzMTMxIiBkPSJNMTMgMGExMyAxMyAwIDEgMCAwIDI2IDEzIDEzIDAgMCAwIDAtMjZtMCAyNGExMSAxMSAwIDEgMSAwLTIyIDExIDExIDAgMCAxIDAgMjIiLz48cGF0aCBmaWxsPSIjMzEzMTMxIiBkPSJtMTAuOTU1IDE2LjA1NS0zLjk1LTQuMTI1LTEuNDQ1IDEuMzg1IDUuMzcgNS42MSA5LjQ5NS05LjYtMS40Mi0xLjQwNXoiLz48L3N2Zz4=)}body.light #challenge-error-text{background-image:url(data:image/svg+xml;base64,PHN2ZyB4bWxucz0iaHR0cDovL3d3dy53My5vcmcvMjAwMC9zdmciIHdpZHRoPSIzMiIgaGVpZ2h0PSIzMiIgZmlsbD0ibm9uZSI+PHBhdGggZmlsbD0iI2ZjNTc0YSIgZD0iTTE2IDNhMTMgMTMgMCAxIDAgMTMgMTNBMTMuMDE1IDEzLjAxNSAwIDAgMCAxNiAzbTAgMjRhMTEgMTEgMCAxIDEgMTEtMTEgMTEuMDEgMTEuMDEgMCAwIDEtMTEgMTEiLz48cGF0aCBmaWxsPSIjZmM1NzRhIiBkPSJNMTcuMDM4IDE4LjYxNUgxNC44N0wxNC41NjMgOS41aDIuNzgzem0tMS4wODQgMS40MjdxLjY2IDAgMS4wNTcuMzg4LjQwNy4zODkuNDA3Ljk5NCAwIC41OTYtLjQwNy45ODQtLjM5Ny4zOS0xLjA1Ny4zODktLjY1IDAtMS4wNTYtLjM4OS0uMzk4LS4zODktLjM5OC0uOTg0IDAtLjU5Ny4zOTgtLjk4NS40MDYtLjM5NyAxLjA1Ni0uMzk3Ii8+PC9zdmc+)}a{background-color:transparent;color:#0051c3;text-decoration:none;transition:color .15s ease}a:hover{color:#ee730a;text-decoration:underline}.main-content{margin:8rem auto;max-width:60rem;width:100%}.heading-favicon{height:2rem;margin-right:.5rem;width:2rem}@media (width <= 720px){.main-content{margin-top:4rem}.heading-favicon{height:1.5rem;width:1.5rem}}.footer,.main-content{padding-left:1.5rem;padding-right:1.5rem}.main-wrapper{align-items:center;display:flex;flex:1;flex-direction:column}.font-red{color:#b20f03}.spacer{margin:2rem 0}.h1{font-size:2.5rem;font-weight:500;line-height:3.75rem}.h2{font-weight:500}.core-msg,.h2{font-size:1.5rem;line-height:2.25rem}.body-text,.core-msg{font-weight:400}.body-text{font-size:1rem;line-height:1.25rem}@media (width <= 720px){.h1{font-size:1.5rem;line-height:1.75rem}.h2{font-size:1.25rem}.core-msg,.h2{line-height:1.5rem}.core-msg{font-size:1rem}}#challenge-error-text{background-image:url(data:image/svg+xml;base64,PHN2ZyB4bWxucz0iaHR0cDovL3d3dy53My5vcmcvMjAwMC9zdmciIHdpZHRoPSIzMiIgaGVpZ2h0PSIzMiIgZmlsbD0ibm9uZSI+PHBhdGggZmlsbD0iI2ZjNTc0YSIgZD0iTTE2IDNhMTMgMTMgMCAxIDAgMTMgMTNBMTMuMDE1IDEzLjAxNSAwIDAgMCAxNiAzbTAgMjRhMTEgMTEgMCAxIDEgMTEtMTEgMTEuMDEgMTEuMDEgMCAwIDEtMTEgMTEiLz48cGF0aCBmaWxsPSIjZmM1NzRhIiBkPSJNMTcuMDM4IDE4LjYxNUgxNC44N0wxNC41NjMgOS41aDIuNzgzem0tMS4wODQgMS40MjdxLjY2IDAgMS4wNTcuMzg4LjQwNy4zODkuNDA3Ljk5NCAwIC41OTYtLjQwNy45ODQtLjM5Ny4zOS0xLjA1Ny4zODktLjY1IDAtMS4wNTYtLjM4OS0uMzk4LS4zODktLjM5OC0uOTg0IDAtLjU5Ny4zOTgtLjk4NS40MDYtLjM5NyAxLjA1Ni0uMzk3Ii8+PC9zdmc+);padding-left:34px}#challenge-error-text,#challenge-success-text{background-repeat:no-repeat;background-size:contain}#challenge-success-text{background-image:url(data:image/svg+xml;base64,PHN2ZyB4bWxucz0iaHR0cDovL3d3dy53My5vcmcvMjAwMC9zdmciIHdpZHRoPSIzMiIgaGVpZ2h0PSIzMiIgZmlsbD0ibm9uZSIgdmlld0JveD0iMCAwIDI2IDI2Ij48cGF0aCBmaWxsPSIjMzEzMTMxIiBkPSJNMTMgMGExMyAxMyAwIDEgMCAwIDI2IDEzIDEzIDAgMCAwIDAtMjZtMCAyNGExMSAxMSAwIDEgMSAwLTIyIDExIDExIDAgMCAxIDAgMjIiLz48cGF0aCBmaWxsPSIjMzEzMTMxIiBkPSJtMTAuOTU1IDE2LjA1NS0zLjk1LTQuMTI1LTEuNDQ1IDEuMzg1IDUuMzcgNS42MSA5LjQ5NS05LjYtMS40Mi0xLjQwNXoiLz48L3N2Zz4=);padding-left:42px}.text-center{text-align:center}.big-button{border:.063rem solid #0051c3;border-radius:.313rem;font-size:.875rem;line-height:1.313rem;padding:.375rem 1rem;transition-duration:.2s;transition-property:background-color,border-color,color;transition-timing-function:ease}.big-button:hover{cursor:pointer}.captcha-prompt:not(.hidden){display:flex}@media (width <= 720px){.captcha-prompt:not(.hidden){flex-wrap:wrap;justify-content:center}}.pow-button{background-color:#0051c3;color:#fff;margin:2rem 0}.pow-button:hover{background-color:#003681;border-color:#003681;color:#fff}.footer{font-size:.75rem;line-height:1.125rem;margin:0 auto;max-width:60rem;width:100%}.footer-inner{border-top:1px solid #d9d9d9;padding-bottom:1rem;padding-top:1rem}.clearfix:after{clear:both;content:\"\";display:table}.clearfix .column{float:left;padding-right:1.5rem;width:50%}.diagnostic-wrapper{margin-bottom:.5rem}.footer .ray-id{text-align:center}.footer .ray-id code{font-family:monaco,courier,monospace}.core-msg,.zone-name-title{overflow-wrap:break-word}@media (width <= 720px){.diagnostic-wrapper{display:flex;flex-wrap:wrap;justify-content:center}.clearfix:after{clear:none;content:none;display:initial;text-align:center}.column{padding-bottom:2rem}.clearfix .column{float:none;padding:0;width:auto;word-break:keep-all}.zone-name-title{margin-bottom:1rem}}.loading-spinner{height:76.391px}.lds-ring{display:inline-block;position:relative}.lds-ring,.lds-ring div{height:1.875rem;width:1.875rem}.lds-ring div{animation:lds-ring 1.2s cubic-bezier(.5,0,.5,1) infinite;border:.3rem solid transparent;border-radius:50%;border-top-color:#313131;box-sizing:border-box;display:block;position:absolute}.lds-ring div:first-child{animation-delay:-.45s}.lds-ring div:nth-child(2){animation-delay:-.3s}.lds-ring div:nth-child(3){animation-delay:-.15s}@keyframes lds-ring{0%{transform:rotate(0)}to{transform:rotate(1turn)}}@media screen and (-ms-high-contrast:active),screen and (-ms-high-contrast:none){.main-wrapper,body{display:block}}</style><meta http-equiv=\"refresh\" content=\"375\"></head><body class=\"no-js\"><div class=\"main-wrapper\" role=\"main\"><div class=\"main-content\"><noscript><div id=\"challenge-error-title\"><div class=\"h2\"><span id=\"challenge-error-text\">Enable JavaScript and cookies to continue</span></div></div></noscript></div></div><script>(function(){window._cf_chl_opt={cvId: \\'3\\',cZone: \"www.discogs.com\",cType: \\'managed\\',cNounce: \\'32567\\',cRay: \\'86129c63fb831003\\',cHash: \\'823e7a67bc69f66\\',cUPMDTk: \"\\\\/sell\\\\/list?format=Vinyl&__cf_chl_tk=rig587h.Thces72bL4ti4jlpHR75Bw8uARyfrKNUmrY-1709898660-0.0.1.1-1685\",cFPWv: \\'b\\',cTTimeMs: \\'1000\\',cMTimeMs: \\'375000\\',cTplV: 5,cTplB: \\'cf\\',cK: \"visitor-time\",fa: \"\\\\/sell\\\\/list?format=Vinyl&__cf_chl_f_tk=rig587h.Thces72bL4ti4jlpHR75Bw8uARyfrKNUmrY-1709898660-0.0.1.1-1685\",md: \"LYwSAKVwjTVLEXJIkYMcCujR3vN_nZSszd9M9s2YmvE-1709898660-1.1.1.1-4t4w4Khgc85QbcnJnQyJIHtuEPSwG9oMfCXrowrZL1bpT2IhLrDumzukBKNsCQtz6HOKwCsloNdCwox5U3gxU4PWm9IrFkTd1wlaYQcqYIZHx22xL98M3crdOoFjnAt18QyI7099l4X_bCfzIf61BjyRpct9qW9K7FDAE9egi2UG9EYhJz0JwlDvFRqgOQm0p1a..VOsRv7Gp2oznk.SEqgtmu9ep2nJjDqLjvmzhUqmeAGSkpnZA4xQ0nqsuyv1aJfKD7WZlSxFEmALd77qzwOlKzhfJUlpEecTB9WGEW8rFdj9_OTHNeAaOC4LYGwoxEB9xv05WEQqpWOCEb6fkssR3sC3Ug6FsDoWUfYcBkjCuLDk2EFKLB1uyBe.WEEgu9bxoMs5S4rf7h7l8JJR.lbkjkJlrw6s8qYZNzLCJv2rX2at_w7OuG8F42QwSqMdPjZxU5jFgWaAiUWRlbI.yen64.tgUNIDPvlOQw8V7yrYJwRgbl6IU.Pl6gLEYXLsDcrtYHfsr5I0_flfSqnLhRAy3eLEuUQNBPqqRwlOOFrhffiaGY5U77ecSSs0JpMoOiKT4ql.d1.kmuVGyyYMBSvLtdV27lKCcNJZgWpf0uvhB3dYlTLjvR0AGhe82qugAMFoFIC80SH1_EdT3fTfFCSI52_1ShNi5Mp6YygbKHWrVQYGFLdddg.ivyrBsUSiap2zrdJa.Vv7KAqM.IMCZsBdXmTOO2t4o1xy8MTAPS2VDaaDHaEKSoI4jTJAbrUYcqRlETU1GWqNZHv4j..0TmHtFUm303IJSpMYgvrHjKtHEPErrIHLEb6gO2ZeQg8aYxLJVktWUD6vKEhWnnT3xCmPlczpJ4wP16Xxph6hMUS32U69.8WrGriSyUS.te9M2TAMSifHeD2IS6WFBugmKjcPFBJ8EbM8NPmmKO4VOVq1pT0J7bYOUt9g.fNnLXYWXkoZk8TR.efSUcyND5ycL.OxP1bQ84yPrzC3BXIMPLxSYxidw9jjtTVAHMl26jZZMgBre_vL0yV4ow9AUl0TIJ_oAVT7ZmDlQXFY2F64TNe1QDvRYzAhb0x6LceC1F9rP75VXZMh2D_9Afz5ciDwYRXiH8naXSS12DgMwkWqZndRTPNH2HpQvzZevIuqb2uXVLnWaLGTRNK1GowImiJPIX848StUTz8A7sE2egntNxcfY2wrlDBQE_0dXVszUKQGy2H58JI3veeW8.O8AxlhMm8t2d.Ft4rqEXm0Fj7C_qsn33EfMn664qG.LyJqeWE8uA33K2.9X1DeKYiks4Twwln2YP77mCS9YMSVjKSDjmSXf8F6_yvkFzvx52AXY.zArjWHdsXIn1UFtRsj_ZeHRJmBsYy01gWc1Wq6oDe.dmZDmAM3gULlglq0FDprEMCxsDtDMLWGnL6eLaV53Yw4UvLSP8dhJ_bsM19MQs1VX.dfJsqsy07kyeZC25lepbxjYPq_CgmzYJYu_5vyQ8bdGjhz3ZxEIDEwfWfSac55ILtxPEHOBOIYivHxk86zM9QBOEP8ElPrgHsfM4jriiS9nkapRo3XL11q.MpVJfUvTprz7lJ8WjiUJFYrfLlEJnJWcnAz5Q1HWYdlktgO..NUUg\",mdrd: \"uXVNk6VI_FUg822e4VbASg0ZG6btAgaz35wN99qpIzc-1709898660-1.1.1.1-9MvdHkDg9ZM8TByjVw8Nyg6Cu7QPeIGWPXLMdArux5dnHlPrND7DMuBj.Diq7mmu5Qs_ozG5lf5Lm9lEOOt8D5qHwAcBHUmsp5APm4a66fLpWlcfcwTo0evj36kwlXlA5Qdkg0zkFTbAL8IePu3nwRzsEcBFchdnN_EzHPjjMNfKIZ7NpH7hqaJH05vk6FUspAG4sxXSvWo4RuEsw3OOQH2wYSe0Y1bK7y5U5vuUmsfbHtkXp.PzC27mvWk1A31YpaWFIv3BkRBE2VeGyuJtMXgaEpclZCSaEPjdr.DSI9c7MILT47w23ApceZ3fdLJOyqVpgiiX87Aawvx.ezI31NLxk_hBq9vrshJVKZViqUrSdR3FuFUlXp0mbU8fHlP9vvz4eAfGdNWk0mokISJzeIQ32Ggco_hqR6Y0.3g.Cu42PkogUzurBgRbZuaw5e5hq7Kf6msZe.T8WReMs3JKiES5uCatNioz8f5EUEYcCPMQW19cj4tXbdrazcNFYq3PKedP_IZ7_HWmAjFyeERp28ja9W3a4zK9bygwhTPdjkwvBYb_kWV3KTU6qeXo4dNUpiIh29bn_av.yAT2cIrQkeApWklUDAxbE5Gzy__OJ4g5vYw5JzrRDRCZ6XVqjQB86iZiDIstk3GGrdA_w5go5kf84rJRrCQnOCTjfm_k1.ySkLAQzHAqwbCVmgbnieSD_.tLEoYPBuLCGlQPHZTMGqddNNf8Oa7cGx_gnNIcHtlnxCsGAHwoOCOxCB.J0TsROlJd9AsMbFy4K0K6JbGDgZeYGkH6uOrAdP125fwl8PGvSB544Tt5AddmXjhgHVjQNe1qvfqRHuKlxusB7w0DbpUbqPzNIUORjW9_WE.N23i4nMSN0I5htgrbPfyQsFJFZnA5JO7n_WL1AQhauzlzt3eNT20DalW52fNoa1X8KbrJwWDf15wyj9Y9EQb6flutxKTIaLJYxSOC.sAYlZpBDU6Ijf0wD0gavHcti5sRZcfjKxLeJXU6R65QI5W_eBfV3FepnwzrC8yzBOGIBPQF43Ft1_c4W97JVtKBvhVJG5KBrUW_6eFtRHZSbV9xKqoeM5PU.CCYxSDqAlJovGAJ6hTB1f.iIkT93TK4dZ4x3YPbAyTkqvTGycOrwMWcrHwTtEpmryy7vDsnLLs3k_aLRtD3K4gp5kxDoxXnL3EbrxNfy_iGMqXOovwZwbsfOvW9MlZnkCGYvdhRAWP8MUf16DlRVov9u7IUYRe4wweVTi868xh_SquLQyzosFLS5jzy1sjuUtvBXomY1sFTLut5Vkvql7Uo8kM.DaP5sJDn8Cqza0ka7I49s2woZN6ehQPrJt6eEO.cyyK6pY2Jrf1jjXQ3nYW1ePnRxWF7.0ANtb6M5P8WRvqn1xvkUysiyoa6QO6iN_eWRBuUlHji4VHTLhQR1giInZD2KVeoLUIvwGw3wg9WsBTsPa.zJgzSwvKftHaNN5MHCDFRmuuF2cUdoh9LWwjxOKGH_xCKDWZGhXxlipIsjSJWN0MxC.xxf_cGt2wOSXnV1SRYzMDcQG5znViF0d4eJ1OCPBGEpYJ2kx.vqgScBJfSIXfbDcYcVU0e0cdAjo0DSKKR10TAPUao8ZqtxJU01A28g.l6LjM5epD7poVh79DUjCbRBMaOPc1.E5WM4DyrwuVjU2ffsrjkj7ZH_h3rA.TYz._yMBIGAExERbJIHFsRQ8CcfiXk.L.p41OSOoEz88scOcopSCdVhhaCLnyZsNnG1hHcp9zgCreSESkcyJTzApR3URKun4fMLI__LVx2lWYAXsPGS9Dkro4GJTH3ld27rpAffCcEjO8tWIMENx2zKO5FjqoM6zX1lSLI85KnkenniMvJV3NGwO9ptW2vEXmEk5fxL7wj5A84xMAHLVazN8yXBPL30e3B1sW.UyA8rbcN.wgHuiPw1QQRqDw4mnz63yXk.PLqP6rXAqNPrB7e9k9mTbFV9amXQa7RSRkTIoQTS7xx9syf_lr5847UjbWdtCWglZ4ivLKnkrKbaim1pRMG8cxosl9oDsZghvDHHolrHX3prQ4zbtFRqdUb4Pyztqf8MCmWUjJq0E4kfQVv8J0.bnic8BVs5pQVxQc1TJO3g13gJc0ptcFY4mVjL9fJMiqG_OJxim4\",cRq: {ru: \\'aHR0cHM6Ly93d3cuZGlzY29ncy5jb20vc2VsbC9saXN0P2Zvcm1hdD1WaW55bA==\\',ra: \\'TW96aWxsYS81LjAgKFdpbmRvd3M7IFU7IFdpbmRvd3MgTlQgNS4xOyBwbC1QTCkgQXBwbGVXZWJLaXQvNTIzLjE1IChLSFRNTCwgbGlrZSBHZWNrbykgVmVyc2lvbi8zLjAgU2FmYXJpLzUyMy4xNQ==\\',rm: \\'R0VU\\',d: \\'4nRsz8n29/zE4+uEtV1fx77vzZGmoSymDDpNtCsNK82RtrbZxmJhzg0SBVJMCNWLDhEnjvtUU27VIdYm5erEdZCNx3Kou5Rk1diBv9mpKAVFnC5bZP+TECN++yWMWcgp6rttacpvN2qCg8RtkRNsocbeOsPQKJZfRtp0bLpdRQq90EsT0WyafTyWm/A9hq9I6uJTxRrEQQlNF/HoHg7ZMOXe1pg11PchZlj9D8aAVRumWyutCCnMJFDPAWbGNMf4qwhq0Eh5N1JwndI9oTSVHxmY3FkCQs4/zjR4Xu2oK+HfIcSbSP+FQVYzixEje1167Zi8q+MbdZ+hFRULJIgxAGI6e+iyv6Ev7Hg1EOUIPq/GUMQ27BBZmHPlWsbnBapy2HDSIOrz8VT6zCxPnJFOJQAQ266pkKadiwCRnV37kF6nFC7JPlOAeaKbyEACqapdmbp5FlgmcNpn/UcXdQxUvhtceR3CigtEKufYmt+z2rwsJrH9VTkFw5VlZzNzkwqKZYjCzVpd+IrHgFne79TdDm4KZvh5fLNDBL72U7O2JjixZgucURAS8QsSQ2kWGNE7KMje5nf0QM0b3Y2uhV9/sBirpdLvQw3VV18BLXdgy5VmDbotrBxqzxIkROr3XOauXpPKlE1zKEDxv3DpFmuvEg==\\',t: \\'MTcwOTg5ODY2MC40ODYwMDA=\\',cT: Math.floor(Date.now() / 1000),m: \\'4TvLsjaMxMdPrmkZ9iCDnU/FUGMcw3qCwTe9zJgLTPw=\\',i1: \\'2FxNqUD52L2gPXj+i69Pvg==\\',i2: \\'3yEKzNrUGQ8mG+XFysyPHQ==\\',zh: \\'y/5gbtqv3ryNnXkEV3okjz0qMwAKw8hrQMiGMrZYIqs=\\',uh: \\'5aPN58eo/jFofz2yfwnQeyMzB9heOKFcvqfO4Rda4Sk=\\',hh: \\'aHe4LtJTAXE8cGlMp2YOZtPZttABMyA3bgeN7VeGi3E=\\',}};var cpo = document.createElement(\\'script\\');cpo.src = \\'/cdn-cgi/challenge-platform/h/b/orchestrate/chl_page/v1?ray=86129c63fb831003\\';window._cf_chl_opt.cOgUHash = location.hash === \\'\\' && location.href.indexOf(\\'#\\') !== -1 ? \\'#\\' : location.hash;window._cf_chl_opt.cOgUQuery = location.search === \\'\\' && location.href.slice(0, location.href.length - window._cf_chl_opt.cOgUHash.length).indexOf(\\'?\\') !== -1 ? \\'?\\' : location.search;if (window.history && window.history.replaceState) {var ogU = location.pathname + window._cf_chl_opt.cOgUQuery + window._cf_chl_opt.cOgUHash;history.replaceState(null, null, \"\\\\/sell\\\\/list?format=Vinyl&__cf_chl_rt_tk=rig587h.Thces72bL4ti4jlpHR75Bw8uARyfrKNUmrY-1709898660-0.0.1.1-1685\" + window._cf_chl_opt.cOgUHash);cpo.onload = function() {history.replaceState(null, null, ogU);}}document.getElementsByTagName(\\'head\\')[0].appendChild(cpo);}());</script></body></html>'"
      ]
     },
     "execution_count": 5,
     "metadata": {},
     "output_type": "execute_result"
    }
   ],
   "source": [
    "res.content"
   ]
  },
  {
   "cell_type": "code",
   "execution_count": 68,
   "metadata": {},
   "outputs": [],
   "source": []
  },
  {
   "cell_type": "code",
   "execution_count": 19,
   "metadata": {},
   "outputs": [],
   "source": [
    "# params = {'id': artist_id, 'limit': '9999'}\n",
    "url = 'http://music.163.com/artist/album?id=2842'\n",
    "r = requests.get(url=url,headers=headers)"
   ]
  },
  {
   "cell_type": "code",
   "execution_count": 22,
   "metadata": {},
   "outputs": [
    {
     "data": {
      "text/plain": [
       "707"
      ]
     },
     "execution_count": 22,
     "metadata": {},
     "output_type": "execute_result"
    }
   ],
   "source": [
    "r.content.decode('utf-8').find('光')"
   ]
  },
  {
   "cell_type": "code",
   "execution_count": 26,
   "metadata": {},
   "outputs": [],
   "source": [
    "soup = BeautifulSoup(r.content.decode('utf-8'), 'html.parser')\n"
   ]
  },
  {
   "cell_type": "code",
   "execution_count": null,
   "metadata": {},
   "outputs": [],
   "source": []
  },
  {
   "cell_type": "code",
   "execution_count": 33,
   "metadata": {},
   "outputs": [],
   "source": [
    "# 所有图片\n",
    "imgs = soup.find_all('div', attrs={'class': 'u-cover u-cover-alb3'})\n",
    "# 专辑信息\n",
    "albums = soup.find_all('a', attrs={'class': 'tit s-fc0'})  # 获取所有专辑\n",
    "\n",
    "# 日期信息\n",
    "date = soup.find_all('span', attrs={'class': 's-fc3'})  # 获取所有专辑\n",
    "\n",
    "# 这里爬不到就停，不会有提示，所以一直卡住\n",
    "if len(albums) == 0:\n",
    "  print(artist_id+\"error\")"
   ]
  },
  {
   "cell_type": "code",
   "execution_count": 38,
   "metadata": {},
   "outputs": [
    {
     "data": {
      "text/plain": [
       "'2024.1.20'"
      ]
     },
     "execution_count": 38,
     "metadata": {},
     "output_type": "execute_result"
    }
   ],
   "source": [
    "date[0].text"
   ]
  },
  {
   "cell_type": "code",
   "execution_count": 72,
   "metadata": {},
   "outputs": [],
   "source": [
    "headers = {\n",
    "    'Accept': 'text/html,application/xhtml+xml,application/xml;q=0.9,image/webp,*/*;q=0.8',\n",
    "    'Accept-Encoding': 'gzip, deflate, sdch',\n",
    "    'Accept-Language': 'zh-CN,zh;q=0.8,en;q=0.6',\n",
    "    'Cache-Control': 'no-cache',\n",
    "    'Connection': 'keep-alive',\n",
    "    'Cookie': 'nts_mail_user=zq103785@163.com:-1:1; _iuqxldmzr_=32; WEVNSM=1.0.0; _ntes_nnid=8dc884d19865afa2bed3100c0e24f6bd,1693042748433; _ntes_nuid=8dc884d19865afa2bed3100c0e24f6bd; WNMCID=casydx.1693042751169.01.0; NMTID=00O1XnqLbkwgSyW7kvslzaantg7qgYAAAGKMTY-7Q; sDeviceId=YD-FwpCDx6DTcVAQxBVFAeFyR8GS2wPvH%2Fo; NTES_P_UTID=IuBOHlTFXuNpDaKGhkQQLhDv2ZtDwVgx|1696942400; P_INFO=zq103785@163.com|1696942400|1|mail163|00&99|gud&1694011500&mail163#CN&null#10#0#0|&0||zq103785@163.com; WM_TID=ONTJ8MzN6H5FEEQQFQLFw%2FJFUwUP51Nm; ntes_utid=tid._.Q%252BonGV%252BkrYpEA1ARVEeV1rMEQgBf73L1._.0; NTES_CMT_USER_INFO=640304147%7C%E6%9C%89%E6%80%81%E5%BA%A6%E7%BD%91%E5%8F%8B0CaAgj%7Chttp%3A%2F%2Fcms-bucket.nosdn.127.net%2F2018%2F08%2F13%2F078ea9f65d954410b62a52ac773875a1.jpeg%7Cfalse%7CenExMDM3ODVAMTYzLmNvbQ%3D%3D; vinfo_n_f_l_n3=bbb3e082a0c87e39.1.0.1698064316111.0.1698064330716; WM_NI=QGq%2BqtqJrPT6k7SqYSfDO1u1w9WtWsEsNn64m1tBltzJuIAb%2Br0NaIWizCZwuQzBheMpNevaxvDF3FApXZGrbUCJ%2FGFislL%2BAp5ZNM%2FoNs66kjaGvlyE9BazSlUk0oA8dzE%3D; WM_NIKE=9ca17ae2e6ffcda170e2e6eeb9f844f7a6bb88fb65b88e8fa2c45f878a9b86d42187bbc08ab473aa95be91f82af0fea7c3b92a9399bfccf480b396beb1d73ea9e99d92dc59a69c81d2f83bb5e79995d67987ad828fb540afefbca3ef80ba96bbaac46ae9ae00afe44395b7b6a4d97db78fb6a3eb6f8fb08286f56bbcaa8ca7b24e83b098bbc67aa28b8dabae4d86b7bd8dcf2183b0fbbbcd47edb18294b53ea9b6afa8f568bb9bf7a3e47291b49b8cb36583e8ac9bc837e2a3; __snaker__id=ifnyI2GZ04F6f6lh; ntes_kaola_ad=1; gdxidpyhxdE=qGBqtASjiakaOMj%5CeQCU5UOeUl%2F6ANvSK6gtLfh0hsxltOtdmXV2%2Bj8G2rYaykWvT6oBwU33Sg6oIHwWhQ08bzyDwuaS0PLqNP%5CjqKEkrYToUo4XuZUDCVZ8T4a%2FZN%2BV895mQbZM0Z503Kxr7UYyvmZ%2BV%2BNhqt7%2Bjk1%2FPt0lhA0OXBTS%3A1709967487480; JSESSIONID-WYYY=rgftEWi4BZOROiR1z9FhoqXIrYHCn60AsyOsdJevuqk29RyJ24BJtItsZ0RnzGxkeVaSaPI4%5CK5%5CmOSN3ou07WWZE%2FfbgGiM9mCsbqt7c%2Be5JTDjaXO%2B2TOY8Cn2OUwuww6dE8axaJMG8fCXD5s0RnsVj2Ra7dvnCVP6u5UksQ%2FrFOWA%3A1709968387556; __csrf=be7b0605225e204361cc1e974a049f47; MUSIC_U=00C073D7DCD52CC38A5EE185B77F72CC2FB343C92230ED23A2E31BEF4EF58BA7510991DF66E52BC78C55F9B53C5B0D069874C9F227D7EC0ABCDA1A5BBA98A74E2AEC5DA1EB0B741FED9DD92569A08D79FE62FE2D367655F6B0E744E501D31706AF6B5B5B772F715313380ED6ADC41CF04DBEB51EAAF9C1F6BC0617A29C963F580C0EEA2735979815B00E9260B431903F6C87969FADFC8782EDF6B930985209A3F214CABA9C95652624B744C2FB172597714405596681CA031C396007B1C9D6A0A495C211A67DB70DA1FABA11BA430E25BC8F9E9E36F535347E23507850EAF2FCB63098C232E868E974183328B1DC04E2A554F97B1949541569CDFBDB7D612E8DE7ADCC5A5083E65E6D93A88CD2597DEB894EEDA2EE43D19C96CDAD84B4979ECEF504419741DCAD86978B295C5560DD40BCE6300B9306D2594E1D37CC6ED6E89EDF9AD6D64BC642DA234968D8B3207DE712E2AA3AD091904CB017FF3A1671A8BE5ED3E3FAC387317712A18225A195E4029D; playerid=40064894',\n",
    "    'DNT': '1',\n",
    "    'Host': 'music.163.com',\n",
    "    'Pragma': 'no-cache',\n",
    "    'Referer': 'http://music.163.com/',\n",
    "    'Upgrade-Insecure-Requests': '1',\n",
    "    'User-Agent': 'Mozilla/5.0 (Windows NT 10.0; Win64; x64) AppleWebKit/537.36 (KHTML, like Gecko) Chrome/53.0.2785.143 Safari/537.36'\n",
    "}"
   ]
  },
  {
   "cell_type": "code",
   "execution_count": 76,
   "metadata": {},
   "outputs": [],
   "source": [
    "url = 'https://music.163.com/album?id=5829'\n",
    "\n",
    "r = requests.get(url=url, headers=headers)\n",
    "## <span class=\"j-flag\">12</span>\n"
   ]
  },
  {
   "cell_type": "code",
   "execution_count": 77,
   "metadata": {},
   "outputs": [
    {
     "data": {
      "text/plain": [
       "15888"
      ]
     },
     "execution_count": 77,
     "metadata": {},
     "output_type": "execute_result"
    }
   ],
   "source": [
    "r.content.decode('utf-8').find('包含歌曲列表')"
   ]
  },
  {
   "cell_type": "code",
   "execution_count": 79,
   "metadata": {},
   "outputs": [
    {
     "data": {
      "text/plain": [
       "[<span class=\"j-flag\">0</span>,\n",
       " <span class=\"j-flag\">0</span>,\n",
       " <span class=\"j-flag\"></span>,\n",
       " <span class=\"zs s-fc4 j-flag\">110/120</span>,\n",
       " <span class=\"zs s-fc4 j-flag\">110/120</span>,\n",
       " <span class=\"zs s-fc4 j-flag\">110/120</span>,\n",
       " <span class=\"zs s-fc4 j-flag\">110/120</span>,\n",
       " <span class=\"zs s-fc4 j-flag\">110/120</span>,\n",
       " <span class=\"zs s-fc4 j-flag\">110/120</span>,\n",
       " <span class=\"zs f-fr s-fc3 j-flag\">140</span>,\n",
       " <span class=\"holder-parent j-flag\" style=\"float:left\">\n",
       " <input class=\"txt j-flag\" type=\"text\">\n",
       " <label class=\"holder j-flag\">选择或输入好友昵称</label>\n",
       " </input></span>,\n",
       " <span class=\"f-fr s-fc4 j-flag\">140/140</span>,\n",
       " <span class=\"j-flag\"></span>,\n",
       " <span class=\"zs f-fr s-fc3 j-flag\">140</span>,\n",
       " <span class=\"ver j-flag\">V1.9.1</span>,\n",
       " <span class=\"ver j-flag\">V1.9.1</span>,\n",
       " <span class=\"qtcode j-flag\"></span>]"
      ]
     },
     "execution_count": 79,
     "metadata": {},
     "output_type": "execute_result"
    }
   ],
   "source": [
    "soup = BeautifulSoup(r.content.decode('utf-8'), 'html.parser')\n",
    "nums = soup.find_all('span', attrs={'class': 'j-flag'})\n",
    "nums"
   ]
  },
  {
   "cell_type": "code",
   "execution_count": null,
   "metadata": {},
   "outputs": [],
   "source": []
  }
 ],
 "metadata": {
  "kernelspec": {
   "display_name": "base",
   "language": "python",
   "name": "python3"
  },
  "language_info": {
   "codemirror_mode": {
    "name": "ipython",
    "version": 3
   },
   "file_extension": ".py",
   "mimetype": "text/x-python",
   "name": "python",
   "nbconvert_exporter": "python",
   "pygments_lexer": "ipython3",
   "version": "3.9.7"
  }
 },
 "nbformat": 4,
 "nbformat_minor": 2
}
